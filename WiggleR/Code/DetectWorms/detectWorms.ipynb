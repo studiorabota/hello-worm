{
 "cells": [
  {
   "cell_type": "code",
   "execution_count": null,
   "id": "9f2b9a14-751c-454c-b15b-1a29a07849de",
   "metadata": {},
   "outputs": [],
   "source": [
    "import cv2\n",
    "import argparse\n",
    "import time\n",
    "import numpy as np\n",
    "import matplotlib.pyplot as plt\n",
    "from sklearn.cluster import KMeans"
   ]
  },
  {
   "cell_type": "code",
   "execution_count": null,
   "id": "279fb28f-76d6-46f3-a9e6-a67cf323fabb",
   "metadata": {},
   "outputs": [],
   "source": [
    "def display(img, cmap = None):\n",
    "    fig = plt.figure(figsize=(12,12))\n",
    "    ax = fig.add_subplot(111)\n",
    "    ax.imshow(img, cmap)"
   ]
  },
  {
   "cell_type": "code",
   "execution_count": null,
   "id": "5e23d6ae-60d2-4883-a565-cf237ada04f9",
   "metadata": {
    "tags": []
   },
   "outputs": [],
   "source": [
    "img1BGR = cv2.imread('./input/images/2023-05-11_1948.jpg')\n",
    "img1Gray = cv2.cvtColor(img1BGR, cv2.COLOR_BGR2GRAY)\n",
    "img2BGR = cv2.imread('./input/images/2023-05-11_1949.jpg')\n",
    "img2Gray = cv2.cvtColor(img2BGR, cv2.COLOR_BGR2GRAY)\n",
    "img3BGR = cv2.imread('./input/images/2023-05-11_1950.jpg')\n",
    "img3Gray = cv2.cvtColor(img3BGR, cv2.COLOR_BGR2GRAY)\n",
    "img4BGR = cv2.imread('./input/images/2023-05-11_1951.jpg')\n",
    "img4Gray = cv2.cvtColor(img4BGR, cv2.COLOR_BGR2GRAY)\n",
    "img5BGR = cv2.imread('./input/images/2023-05-11_1952.jpg')\n",
    "img5Gray = cv2.cvtColor(img5BGR, cv2.COLOR_BGR2GRAY)\n",
    "img6BGR = cv2.imread('./input/images/2023-05-11_1953.jpg')\n",
    "img6Gray = cv2.cvtColor(img6BGR, cv2.COLOR_BGR2GRAY)\n",
    "img6RGB = cv2.cvtColor(img6BGR, cv2.COLOR_BGR2RGB)"
   ]
  },
  {
   "cell_type": "code",
   "execution_count": null,
   "id": "72de5590-ac84-410d-804b-ea8225592151",
   "metadata": {},
   "outputs": [],
   "source": [
    "plt.imshow(img6RGB)"
   ]
  },
  {
   "cell_type": "markdown",
   "id": "94b59ef2-d4f8-430a-8736-84030278f991",
   "metadata": {},
   "source": [
    "## Movement with createBackgroundSubtractorMOG2"
   ]
  },
  {
   "cell_type": "code",
   "execution_count": null,
   "id": "83832f8f-c280-4c21-a4ea-7079c47dc50c",
   "metadata": {},
   "outputs": [],
   "source": [
    "backSub = cv2.createBackgroundSubtractorMOG2()"
   ]
  },
  {
   "cell_type": "code",
   "execution_count": null,
   "id": "baa9a0f3-1247-4a10-a4db-137c41d49d66",
   "metadata": {},
   "outputs": [],
   "source": [
    "fgMask = backSub.apply(img1Gray)\n",
    "fgMask = backSub.apply(img2Gray)\n",
    "fgMask = backSub.apply(img3Gray)\n",
    "fgMask = backSub.apply(img4Gray)\n",
    "fgMask = backSub.apply(img5Gray)\n",
    "fgMask = backSub.apply(img6Gray)"
   ]
  },
  {
   "cell_type": "code",
   "execution_count": null,
   "id": "7937ee2c-b1c2-4cd2-9586-3985f2cb0801",
   "metadata": {},
   "outputs": [],
   "source": [
    "plt.imshow(fgMask)"
   ]
  },
  {
   "cell_type": "code",
   "execution_count": null,
   "id": "7aa7a5fc-5d01-434a-ad59-b17e61928b2b",
   "metadata": {},
   "outputs": [],
   "source": []
  },
  {
   "cell_type": "markdown",
   "id": "a053abf5-abb5-403c-9ead-b7814cb760f2",
   "metadata": {},
   "source": [
    "## Movement with createBackgroundSubtractorKNN"
   ]
  },
  {
   "cell_type": "code",
   "execution_count": null,
   "id": "59778bab-c60e-4b60-9580-a2a52ae1be17",
   "metadata": {},
   "outputs": [],
   "source": [
    "backSub = cv2.createBackgroundSubtractorKNN()"
   ]
  },
  {
   "cell_type": "code",
   "execution_count": null,
   "id": "b83ad0d4-e6bd-4741-9d1f-40a91bda1a78",
   "metadata": {},
   "outputs": [],
   "source": [
    "fgMask = backSub.apply(img1Gray)\n",
    "fgMask = backSub.apply(img2Gray)\n",
    "fgMask = backSub.apply(img3Gray)\n",
    "fgMask = backSub.apply(img4Gray)\n",
    "fgMask = backSub.apply(img5Gray)\n",
    "fgMask = backSub.apply(img6Gray)"
   ]
  },
  {
   "cell_type": "code",
   "execution_count": null,
   "id": "f88f9041-3d4a-4ca5-9821-e9a4f6af0e1a",
   "metadata": {},
   "outputs": [],
   "source": [
    "plt.imshow(fgMask)"
   ]
  },
  {
   "cell_type": "markdown",
   "id": "d03fcb45-4c6f-4e12-abde-afc26f6d665d",
   "metadata": {},
   "source": [
    "## Applying contours"
   ]
  },
  {
   "cell_type": "code",
   "execution_count": null,
   "id": "4ba88b89-ea54-417e-b7c4-b480f984fde4",
   "metadata": {},
   "outputs": [],
   "source": [
    "blur = cv2.GaussianBlur(fgMask, (11, 11), 0)"
   ]
  },
  {
   "cell_type": "code",
   "execution_count": null,
   "id": "f661fc6c-44e4-4b0f-b1cb-2a5fe125163b",
   "metadata": {},
   "outputs": [],
   "source": [
    "plt.imshow(blur)"
   ]
  },
  {
   "cell_type": "code",
   "execution_count": null,
   "id": "a2fbf944-bfe6-4e46-8e0d-3ae6742333b0",
   "metadata": {},
   "outputs": [],
   "source": [
    "canny = cv2.Canny(blur, 30, 150, 3)"
   ]
  },
  {
   "cell_type": "code",
   "execution_count": null,
   "id": "c26d11b7-fc8a-4468-880d-6094393b5caf",
   "metadata": {},
   "outputs": [],
   "source": [
    "plt.imshow(canny)"
   ]
  },
  {
   "cell_type": "code",
   "execution_count": null,
   "id": "257c11e7-d207-4457-8a34-aa3c0e0af696",
   "metadata": {},
   "outputs": [],
   "source": [
    "dilated = cv2.dilate(canny, (1, 1), iterations=0)"
   ]
  },
  {
   "cell_type": "code",
   "execution_count": null,
   "id": "e98ac23a-951b-4767-959c-b3dcaa988f48",
   "metadata": {},
   "outputs": [],
   "source": [
    "plt.imshow(dilated)"
   ]
  },
  {
   "cell_type": "code",
   "execution_count": null,
   "id": "c4483914-914a-4f70-bdb5-b737560687d8",
   "metadata": {},
   "outputs": [],
   "source": [
    "(contours, hierarchy) = cv2.findContours(dilated.copy(), cv2.RETR_EXTERNAL, cv2.CHAIN_APPROX_SIMPLE)"
   ]
  },
  {
   "cell_type": "code",
   "execution_count": null,
   "id": "361e614e-e203-4611-9b8a-2b1c7b955765",
   "metadata": {},
   "outputs": [],
   "source": [
    "res = cv2.drawContours(img6BGR, contours, -1, (255, 0, 0), 1)"
   ]
  },
  {
   "cell_type": "code",
   "execution_count": null,
   "id": "0b1d7789-300b-45cd-bcc6-0d1d99d62f98",
   "metadata": {},
   "outputs": [],
   "source": [
    "display(img6BGR)"
   ]
  },
  {
   "cell_type": "markdown",
   "id": "c91ddc51-ee0d-40b7-ad7c-69c1ae07311a",
   "metadata": {},
   "source": [
    "## Mask all moving objects"
   ]
  },
  {
   "cell_type": "code",
   "execution_count": null,
   "id": "960a8a2c-0f1a-464d-b94a-233e45c91d9f",
   "metadata": {},
   "outputs": [],
   "source": [
    "imgMaskMovingObjects = cv2.imread('./input/images/2023-05-11_1953.jpg', 0)\n",
    "imgContourMovingObjects = cv2.imread('./input/images/2023-05-11_1953.jpg', 0)"
   ]
  },
  {
   "cell_type": "code",
   "execution_count": null,
   "id": "a00bb6e3-2272-45de-9f63-ee24eff75f2e",
   "metadata": {},
   "outputs": [],
   "source": [
    "cv2.drawContours(imgContourMovingObjects, contours, -1, (255, 0, 0), 1)"
   ]
  },
  {
   "cell_type": "code",
   "execution_count": null,
   "id": "d87483f8-3956-40eb-a9e0-42550cf612ce",
   "metadata": {},
   "outputs": [],
   "source": [
    "plt.imshow(imgMaskMovingObjects, cmap='gray')"
   ]
  },
  {
   "cell_type": "code",
   "execution_count": null,
   "id": "53fb2802-2203-490b-a00e-09a3029305de",
   "metadata": {},
   "outputs": [],
   "source": [
    "maskAll = np.zeros_like(imgMaskMovingObjects)\n",
    "plt.imshow(maskAll, cmap='gray')"
   ]
  },
  {
   "cell_type": "code",
   "execution_count": null,
   "id": "e5729ec2-d2c0-4f06-a6fc-a220e449f10c",
   "metadata": {},
   "outputs": [],
   "source": [
    "cv2.drawContours(maskAll, contours, -1, 255, -1)\n",
    "print('create mask')"
   ]
  },
  {
   "cell_type": "code",
   "execution_count": null,
   "id": "6aa5f98e-d2aa-4aab-940c-f73edca0fd7a",
   "metadata": {},
   "outputs": [],
   "source": [
    "display(maskAll, cmap='gray')"
   ]
  },
  {
   "cell_type": "code",
   "execution_count": null,
   "id": "e12772b5-3e7d-4f94-9927-75156a4a9150",
   "metadata": {},
   "outputs": [],
   "source": [
    "outAll = np.zeros_like(imgMaskMovingObjects)\n",
    "outAll[maskAll == 255] = imgMaskMovingObjects[maskAll == 255]"
   ]
  },
  {
   "cell_type": "code",
   "execution_count": null,
   "id": "8482288a-d7aa-4825-9b9b-0dba6aa082c1",
   "metadata": {},
   "outputs": [],
   "source": [
    "display(outAll, cmap='gray')"
   ]
  },
  {
   "cell_type": "code",
   "execution_count": null,
   "id": "e9470659-42fd-4660-bc49-97d9f23847d9",
   "metadata": {},
   "outputs": [],
   "source": [
    "contrast = 1.8 # Contrast control ( 0 to 127)\n",
    "brightness = 1.8 # Brightness control (0-100)\n",
    "\n",
    "out2All = np.zeros_like(imgMaskMovingObjects)\n",
    "\n",
    "# change brightness\n",
    "\n",
    "out2All[maskAll != 255] = imgMaskMovingObjects[maskAll != 255]\n",
    "lighterImage = cv2.addWeighted( imgMaskMovingObjects, contrast, imgMaskMovingObjects, 0, brightness)\n",
    "out2All[maskAll == 255] = lighterImage[maskAll == 255]\n",
    "\n",
    "display(out2All)"
   ]
  },
  {
   "cell_type": "markdown",
   "id": "6d5588c0-7eef-4a21-b33e-e432c9df7be9",
   "metadata": {
    "tags": []
   },
   "source": [
    "## Mask one moving object"
   ]
  },
  {
   "cell_type": "code",
   "execution_count": null,
   "id": "b7e9dbe1-2b86-4c9f-8e50-f75c6c99ee0c",
   "metadata": {},
   "outputs": [],
   "source": [
    "imgToCutOut = cv2.imread('./input/images/2023-05-11_1953.jpg', 0)"
   ]
  },
  {
   "cell_type": "code",
   "execution_count": null,
   "id": "faa31f40-d5ff-48f4-ab50-f64b54eaeaba",
   "metadata": {},
   "outputs": [],
   "source": [
    "plt.imshow(imgToCutOut, cmap='gray')"
   ]
  },
  {
   "cell_type": "code",
   "execution_count": null,
   "id": "051848b6-2788-4c97-8e75-154de554ce5e",
   "metadata": {},
   "outputs": [],
   "source": [
    "mask = np.zeros_like(imgToCutOut)\n",
    "plt.imshow(mask, cmap='gray')"
   ]
  },
  {
   "cell_type": "code",
   "execution_count": null,
   "id": "10d37c2e-4922-4346-81ed-03973e6e0697",
   "metadata": {},
   "outputs": [],
   "source": [
    "cv2.drawContours(mask, contours, 2, 255, -1)\n",
    "print('create mask at index 2')"
   ]
  },
  {
   "cell_type": "code",
   "execution_count": null,
   "id": "7fab7ddc-0525-4a19-a9fd-fcf801206b3c",
   "metadata": {},
   "outputs": [],
   "source": [
    "display(mask, cmap='gray')"
   ]
  },
  {
   "cell_type": "code",
   "execution_count": null,
   "id": "41462881-30a2-49a5-be7c-cb0071c9b172",
   "metadata": {},
   "outputs": [],
   "source": [
    "out = np.zeros_like(imgToCutOut)\n",
    "out[mask == 255] = imgToCutOut[mask == 255]"
   ]
  },
  {
   "cell_type": "code",
   "execution_count": null,
   "id": "4c02db48-89b3-4e09-9653-e7ca02d226a4",
   "metadata": {},
   "outputs": [],
   "source": [
    "display(out, cmap='gray')"
   ]
  }
 ],
 "metadata": {
  "kernelspec": {
   "display_name": "Python 3 (ipykernel)",
   "language": "python",
   "name": "python3"
  },
  "language_info": {
   "codemirror_mode": {
    "name": "ipython",
    "version": 3
   },
   "file_extension": ".py",
   "mimetype": "text/x-python",
   "name": "python",
   "nbconvert_exporter": "python",
   "pygments_lexer": "ipython3",
   "version": "3.10.8"
  }
 },
 "nbformat": 4,
 "nbformat_minor": 5
}
